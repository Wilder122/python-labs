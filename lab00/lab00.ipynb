{
 "cells": [
  {
   "cell_type": "code",
   "execution_count": null,
   "metadata": {},
   "outputs": [],
   "source": [
    "N = ord(\"N\") % 10 + 1"
   ]
  },
  {
   "cell_type": "markdown",
   "metadata": {},
   "source": [
    "# Чехія (Чеська Республіка)\n",
    "\n",
    "**Чеська Республіка** — країна в центральній Європі.\n",
    "\n",
    "## Основна інформація:\n",
    "- **Столиця:** Прага\n",
    "- **Населення:** ~10.7 мільйонів осіб\n",
    "- **Офіційна мова:** чеська\n",
    "- **Площа:** 78,866 км²\n",
    "\n",
    "### Історія та культура:\n",
    "Чехія має багату історію, включаючи періоди як частина Австро-Угорщини і Чехословаччини. Вона славиться своєю архітектурою та пивоварінням.\n",
    "\n",
    "#### Видатні персоналії:\n",
    "- Франц Кафка — письменник.\n",
    "- Антонін Дворжак — композитор.\n",
    "\n",
    "### Природа та пам'ятки:\n",
    "1. Карловий міст.\n",
    "2. Празький град.\n",
    "3. Національний парк Шумава.\n",
    "\n",
    "---\n",
    "\n",
    "## Таблиця даних\n",
    "| Параметр         | Значення       |\n",
    "|------------------|----------------|\n",
    "| Столиця          | Прага          |\n",
    "| Населення        | 10.7 млн       |\n",
    "| Площа            | 78,866 км²    |\n",
    "| Офіційна мова    | чеська         |\n",
    "\n",
    "### Гіперпосилання\n",
    "[Більше про Чехію](https://en.wikipedia.org/wiki/Czech_Republic)\n"
   ]
  },
  {
   "cell_type": "markdown",
   "metadata": {},
   "source": [
    "<svg width=\"300\" height=\"200\" xmlns=\"http://www.w3.org/2000/svg\">\n",
    "    <!-- Верхня біла смуга -->\n",
    "    <rect x=\"0\" y=\"0\" width=\"300\" height=\"100\" fill=\"white\"/>\n",
    "    <!-- Нижня червона смуга -->\n",
    "    <rect x=\"0\" y=\"100\" width=\"300\" height=\"100\" fill=\"#d7141a\"/>\n",
    "    <!-- Синій трикутник -->\n",
    "    <polygon points=\"0,0 150,100 0,200\" fill=\"#11457e\"/>\n",
    "</svg>\n"
   ]
  },
  {
   "cell_type": "code",
   "execution_count": 37,
   "metadata": {},
   "outputs": [
    {
     "name": "stdout",
     "output_type": "stream",
     "text": [
      "Помилка. У списку присутнє нечислове значення\n"
     ]
    }
   ],
   "source": [
    "def task_9(numbers):\n",
    "    if not all(isinstance(n, int) for n in numbers):\n",
    "        return \"Помилка. У списку присутнє нечислове значення\"\n",
    "    odd_numbers = [num for num in numbers if num % 2 != 0]\n",
    "    return sorted(odd_numbers, reverse=True)\n",
    "\n",
    "\n",
    "# Введення списку вручну\n",
    "try:\n",
    "    user_input = input(\"Введіть список чисел через кому: \")\n",
    "    numbers = [int(x.strip()) for x in user_input.split(\",\")]  # Перетворення введення у список чисел\n",
    "    result = task_9(numbers)  # Виклик функції\n",
    "    print(\"Результат:\", result)  # Вивід результату\n",
    "except ValueError:\n",
    "    print(\"Помилка. У списку присутнє нечислове значення\")"
   ]
  }
 ],
 "metadata": {
  "kernelspec": {
   "display_name": "Python 3",
   "language": "python",
   "name": "python3"
  },
  "language_info": {
   "codemirror_mode": {
    "name": "ipython",
    "version": 3
   },
   "file_extension": ".py",
   "mimetype": "text/x-python",
   "name": "python",
   "nbconvert_exporter": "python",
   "pygments_lexer": "ipython3",
   "version": "3.12.7"
  }
 },
 "nbformat": 4,
 "nbformat_minor": 2
}
